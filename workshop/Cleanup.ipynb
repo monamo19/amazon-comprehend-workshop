{
 "cells": [
  {
   "cell_type": "markdown",
   "metadata": {},
   "source": [
    "# Cleanup\n",
    "\n",
    "If you ran this Amazon Comprehend POC in your own account and would like to avoid ongoing charges, run the commands below to cleanup the resources created in the previous notebooks, including:\n",
    "\n",
    "* S3 Bucket\n",
    "* IAM Role\n",
    "* Comprehend Jobs\n",
    "* Comprehend classifier\n"
   ]
  },
  {
   "cell_type": "markdown",
   "metadata": {},
   "source": [
    "## Pre-requisites\n",
    "\n",
    "The cell below will import necessary libraries, retrieve stored variables from previous notebooks, and connect to Forecast, S3, and IAM via the Boto3 Python library."
   ]
  },
  {
   "cell_type": "code",
   "execution_count": null,
   "metadata": {},
   "outputs": [],
   "source": [
    "import sys\n",
    "import os\n",
    "import json\n",
    "import time\n",
    "from time import sleep\n",
    "import boto3\n",
    "import botocore.exceptions\n",
    "import pandas as pd\n",
    "\n",
    "\n",
    "# Retrieve stored variables\n",
    "%store -r\n",
    "\n",
    "# Create connections to Forecast, S3, and IAM\n",
    "session = boto3.Session(region_name=region) \n",
    "comprehend = session.client(service_name='comprehend') \n",
    "s3 = session.client(service_name='s3')\n",
    "iam = session.client(service_name='iam')\n"
   ]
  },
  {
   "cell_type": "code",
   "execution_count": null,
   "metadata": {},
   "outputs": [],
   "source": [
    "def wait_till_delete(callback, check_time = 5, timeout = None):\n",
    "\n",
    "    elapsed_time = 0\n",
    "    while timeout is None or elapsed_time < timeout:\n",
    "        try:\n",
    "            out = callback()\n",
    "        except botocore.exceptions.ClientError as e:\n",
    "            # When given the resource not found exception, deletion has occured\n",
    "            if e.response['Error']['Code'] == 'ResourceNotFoundException':\n",
    "                print('Successful delete')\n",
    "                return\n",
    "            else:\n",
    "                raise\n",
    "        time.sleep(check_time)  # units of seconds\n",
    "        elapsed_time += check_time\n",
    "\n",
    "    raise TimeoutError( \"Forecast resource deletion timed-out.\" )\n"
   ]
  },
  {
   "cell_type": "markdown",
   "metadata": {},
   "source": [
    "## Delete Comprehend Custom Classifier\n"
   ]
  },
  {
   "cell_type": "code",
   "execution_count": null,
   "metadata": {},
   "outputs": [],
   "source": [
    "# Delete comprehend custom classifier\n",
    "wait_till_delete(lambda: comprehend.delete_document_classifier(DocumentClassifierArn=jobArn))\n"
   ]
  },
  {
   "cell_type": "markdown",
   "metadata": {},
   "source": [
    "## Delete IAM and S3 Objects\n",
    "\n",
    "Now that the Forecast objects are cleaned up, we can delete the rest of the IAM and S3 resources we created."
   ]
  },
  {
   "cell_type": "code",
   "execution_count": null,
   "metadata": {},
   "outputs": [],
   "source": [
    "# Detach Role Policies from the IAM Role\n",
    "role_name = role_arn.split('/')[-1]\n",
    "iamAttachedPolicyArns=[]\n",
    "iamAttachedPolicyResponse=iam.list_attached_role_policies(RoleName=role_name)\n",
    "for iap in iamAttachedPolicyResponse['AttachedPolicies']:\n",
    "    iamAttachedPolicyArns.append(iap['PolicyArn'])\n",
    "for ia in iamAttachedPolicyArns:\n",
    "    iam.detach_role_policy(PolicyArn=ia, RoleName=role_name)\n",
    "\n",
    "# Delete the IAM Role    \n",
    "iam.delete_role(RoleName=role_name)\n"
   ]
  },
  {
   "cell_type": "code",
   "execution_count": null,
   "metadata": {},
   "outputs": [],
   "source": [
    "# Delete all objects from the S3 Bucket\n",
    "bucket = boto3.resource('s3').Bucket(bucket_name)\n",
    "bucket.objects.all().delete()\n",
    "\n",
    "# Delete the S3 Bucket\n",
    "s3.delete_bucket(Bucket=bucket_name)"
   ]
  },
  {
   "cell_type": "markdown",
   "metadata": {},
   "source": [
    "## Last Steps\n",
    "\n",
    "Congratulations! You've successfully cleaned up the default lab objects from your account. If you created additional  resources that were not included in the default lab, be sure to clean those up manually or modify the scripts above to clean them up for you.\n",
    "\n",
    "The final step is to go back to the CloudFormation console and delete the Stack you provisioned to create these notebooks.\n",
    "\n",
    "We hope you enjoyed learning how to classify documents with Amazon Comprehend Custom Classifier."
   ]
  }
 ],
 "metadata": {
  "kernelspec": {
   "display_name": "conda_python3",
   "language": "python",
   "name": "conda_python3"
  },
  "language_info": {
   "codemirror_mode": {
    "name": "ipython",
    "version": 3
   },
   "file_extension": ".py",
   "mimetype": "text/x-python",
   "name": "python",
   "nbconvert_exporter": "python",
   "pygments_lexer": "ipython3",
   "version": "3.6.5"
  }
 },
 "nbformat": 4,
 "nbformat_minor": 4
}
